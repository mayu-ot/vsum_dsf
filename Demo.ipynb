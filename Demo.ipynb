{
 "cells": [
  {
   "cell_type": "code",
   "execution_count": null,
   "metadata": {
    "collapsed": true
   },
   "outputs": [],
   "source": [
    "import numpy as np\n",
    "import os\n",
    "import json\n",
    "\n",
    "from func.nets import vid_enc, vid_enc_vgg19\n",
    "from chainer import serializers\n",
    "\n",
    "import sys\n",
    "sys.path.append('script/')\n",
    "from summarize import get_flabel\n",
    "from func.sampling.vsum import VSUM\n",
    "\n",
    "import chainer\n",
    "from chainer import configuration"
   ]
  },
  {
   "cell_type": "code",
   "execution_count": 2,
   "metadata": {
    "collapsed": true
   },
   "outputs": [],
   "source": [
    "# settings\n",
    "feat_type = 'smt_feat' # smt_feat (proposed) or vgg\n",
    "\n",
    "# load embedding model\n",
    "if feat_type == 'smt_feat':\n",
    "    model = vid_enc.Model()\n",
    "    serializers.load_npz('data/trained_model/model_par', model)\n",
    "elif feat_type == 'vgg':\n",
    "    model = vid_enc_vgg19.Model()\n",
    "else:\n",
    "    raise RuntimeError('[invalid feat_type] use smt_feat or vgg')"
   ]
  },
  {
   "cell_type": "code",
   "execution_count": 3,
   "metadata": {},
   "outputs": [
    {
     "name": "stdout",
     "output_type": "stream",
     "text": [
      "save to:  results/summe/smt_feat/\n"
     ]
    }
   ],
   "source": [
    "# prepair output dir\n",
    "d_name = 'summe'\n",
    "dataset_root = 'data/{}/'.format(d_name)\n",
    "out_dir = 'results/{:}/{:}/'.format(d_name, feat_type)\n",
    "print 'save to: ', out_dir\n",
    "\n",
    "if not os.path.exists(out_dir):\n",
    "    os.makedirs(out_dir)"
   ]
  },
  {
   "cell_type": "code",
   "execution_count": 4,
   "metadata": {},
   "outputs": [
    {
     "name": "stdout",
     "output_type": "stream",
     "text": [
      "Video list:\n",
      "- Kids_playing_in_leaves\n",
      "- playing_ball\n",
      "- Paintball\n",
      "- Cooking\n",
      "- Scuba\n",
      "- Cockpit_Landing\n",
      "- Fire Domino\n",
      "- Air_Force_One\n",
      "- Bus_in_Rock_Tunnel\n",
      "- Base jumping\n",
      "- Jumps\n",
      "- Saving dolphines\n",
      "- Bearpark_climbing\n",
      "- Uncut_Evening_Flight\n",
      "- Valparaiso_Downhill\n",
      "- Eiffel Tower\n",
      "- Excavators river crossing\n",
      "- St Maarten Landing\n",
      "- Playing_on_water_slide\n",
      "- Statue of Liberty\n",
      "- Car_railcrossing\n",
      "- paluma_jump\n",
      "- Notre_Dame\n",
      "- car_over_camera\n",
      "- Bike Polo\n"
     ]
    }
   ],
   "source": [
    "# load dataset metadata\n",
    "dataset = json.load(open(dataset_root + 'dataset.json'))\n",
    "video_id = [d['videoID'] for d in dataset]\n",
    "\n",
    "print 'Video list:'\n",
    "for vi in video_id:\n",
    "    print '-', vi"
   ]
  },
  {
   "cell_type": "code",
   "execution_count": 5,
   "metadata": {},
   "outputs": [
    {
     "name": "stdout",
     "output_type": "stream",
     "text": [
      "load Cooking\n",
      "budget:  2\n"
     ]
    },
    {
     "name": "stderr",
     "output_type": "stream",
     "text": [
      "/home/mayu-ot/miniconda2/envs/accv_vsum/lib/python2.7/site-packages/numpy/core/_methods.py:26: VisibleDeprecationWarning: using a non-integer number instead of an integer will result in an error in the future\n",
      "  return umr_maximum(a, axis, None, out, keepdims)\n"
     ]
    }
   ],
   "source": [
    "# summarize video\n",
    "v_id = 'Cooking'\n",
    "\n",
    "with configuration.using_config('train', False):\n",
    "    with chainer.no_backprop_mode():\n",
    "        vsum = VSUM(v_id, model, dataset=d_name, seg_l=5)\n",
    "\n",
    "_, frames, _ = vsum.summarizeRep(seg_l=5, weights=[1.0, 0.0])\n",
    "\n",
    "# get 0/1 label for each frame\n",
    "fps = vsum.dataset.data['fps']\n",
    "fnum = vsum.dataset.data['fnum']\n",
    "label = get_flabel(frames, fnum, fps, seg_l=5)"
   ]
  },
  {
   "cell_type": "code",
   "execution_count": 6,
   "metadata": {},
   "outputs": [
    {
     "name": "stdout",
     "output_type": "stream",
     "text": [
      "writing video to sum_Cooking.mp4\n"
     ]
    }
   ],
   "source": [
    "# write summarized video\n",
    "from skvideo.io import vread, vwrite\n",
    "\n",
    "video_path = '/home/mayu-ot/Data/Dataset/summe/video/%s.webm' % v_id\n",
    "\n",
    "video_data = vread(video_path)\n",
    "sum_vid = video_data[label.ravel().astype(np.bool), :,:,:]\n",
    "\n",
    "print 'writing video to', 'sum_%s.mp4'%v_id\n",
    "vwrite('sum_%s.mp4'%v_id, sum_vid)"
   ]
  }
 ],
 "metadata": {
  "anaconda-cloud": {},
  "kernelspec": {
   "display_name": "Python 2",
   "language": "python",
   "name": "python2"
  },
  "language_info": {
   "codemirror_mode": {
    "name": "ipython",
    "version": 2.0
   },
   "file_extension": ".py",
   "mimetype": "text/x-python",
   "name": "python",
   "nbconvert_exporter": "python",
   "pygments_lexer": "ipython2",
   "version": "2.7.13"
  }
 },
 "nbformat": 4,
 "nbformat_minor": 0
}